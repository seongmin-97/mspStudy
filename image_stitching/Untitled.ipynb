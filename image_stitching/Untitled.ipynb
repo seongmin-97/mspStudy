{
 "cells": [
  {
   "cell_type": "code",
   "execution_count": 2,
   "id": "21a51364",
   "metadata": {},
   "outputs": [],
   "source": [
    "import numpy as np\n",
    "import matplotlib.pyplot as plt\n",
    "from PIL import Image\n",
    "from pslib import *"
   ]
  },
  {
   "cell_type": "code",
   "execution_count": 5,
   "id": "59afeb2a",
   "metadata": {},
   "outputs": [],
   "source": [
    "gaussian_kernel = np.load('gaussian-kernel.npy')"
   ]
  },
  {
   "cell_type": "code",
   "execution_count": 9,
   "id": "60283beb",
   "metadata": {},
   "outputs": [],
   "source": [
    "def convolution(img, kernel):\n",
    "    MAX_ROWS = img.shape[0]\n",
    "    MAX_COLS = img.shape[1]\n",
    "    kernel_size = kernel.shape[0]\n",
    "    pad_amount = int(kernel_size/2)\n",
    "    gaussian_convolved_img = np.zeros(img.shape)\n",
    "    for i in range(3):\n",
    "        zero_padded = pad(img[:,:,i], u_pad=pad_amount, v_pad=pad_amount)\n",
    "        for r in range(pad_amount, MAX_ROWS+pad_amount):\n",
    "            for c in range(pad_amount, MAX_COLS+pad_amount):\n",
    "    #             print(\"r-pad_amount\", r-pad_amount)\n",
    "    #             print(\"r-pad_amount+kernel_size\", r-pad_amount+kernel_size)\n",
    "                conv = np.multiply(zero_padded[r-pad_amount:r-pad_amount+kernel_size, c-pad_amount:c-pad_amount+kernel_size],kernel)\n",
    "                conv = np.sum(conv)\n",
    "                gaussian_convolved_img[r-pad_amount, c-pad_amount, i] = float(conv)\n",
    "    return gaussian_convolved_img"
   ]
  },
  {
   "cell_type": "code",
   "execution_count": 10,
   "id": "9589db2e",
   "metadata": {},
   "outputs": [],
   "source": [
    "def make_one_D_kernel(kernel):\n",
    "    MAX_ROWS = img.shape[0]\n",
    "    MAX_COLS = img.shape[1]\n",
    "    one_d_gaussian_kernel = kernel\n",
    "    \n",
    "    kernel_matrix = np.zeros((MAX_ROWS, MAX_ROWS))\n",
    "    # print(kernel_matrix.shape)\n",
    "    for m in range(MAX_ROWS):\n",
    "    #     print(m)\n",
    "    #     print(m+(len(one_d_gaussian_kernel)))\n",
    "    #     print(one_d_gaussian_kernel)\n",
    "    #     print()\n",
    "        over = int(len(one_d_gaussian_kernel)/2)\n",
    "        mid = over\n",
    "        lower = max(0,m-over)\n",
    "        upper = min(m+over, MAX_ROWS)\n",
    "        kernel_lower = mid-over if m-over >= 0 else abs(m-over)\n",
    "        kernel_upper = mid+over if m+over < MAX_ROWS else (mid+over)-(m+over-MAX_ROWS)\n",
    "        kernel_matrix[m, lower:upper] = one_d_gaussian_kernel[kernel_lower:kernel_upper]\n",
    "    return kernel_matrix"
   ]
  },
  {
   "cell_type": "code",
   "execution_count": 11,
   "id": "fec459a8",
   "metadata": {},
   "outputs": [],
   "source": [
    "def down_sample(img, factor=2):\n",
    "    MAX_ROWS = img.shape[0]\n",
    "    MAX_COLS = img.shape[1]\n",
    "    small_img = np.zeros((int(MAX_ROWS/2), int(MAX_COLS/2), 3))\n",
    "    \n",
    "    small_img[:,:,0]=resize(image=img[:,:,0], size=[int(MAX_ROWS/2), int(MAX_COLS/2)])\n",
    "    small_img[:,:,1]=resize(image=img[:,:,1], size=[int(MAX_ROWS/2), int(MAX_COLS/2)])\n",
    "    small_img[:,:,2]=resize(image=img[:,:,2], size=[int(MAX_ROWS/2), int(MAX_COLS/2)])\n",
    "    return small_img"
   ]
  },
  {
   "cell_type": "code",
   "execution_count": 12,
   "id": "f4250fec",
   "metadata": {},
   "outputs": [],
   "source": [
    "def up_sample(img, factor=2):\n",
    "    MAX_ROWS = img.shape[0]\n",
    "    MAX_COLS = img.shape[1]\n",
    "    small_img = np.zeros((int(MAX_ROWS*2), int(MAX_COLS*2), 3))\n",
    "    \n",
    "    small_img[:,:,0]=resize(image=img[:,:,0], size=[int(MAX_ROWS*2), int(MAX_COLS*2)])\n",
    "    small_img[:,:,1]=resize(image=img[:,:,1], size=[int(MAX_ROWS*2), int(MAX_COLS*2)])\n",
    "    small_img[:,:,2]=resize(image=img[:,:,2], size=[int(MAX_ROWS*2), int(MAX_COLS*2)])\n",
    "    return small_img"
   ]
  },
  {
   "cell_type": "code",
   "execution_count": 13,
   "id": "887b9d22",
   "metadata": {},
   "outputs": [],
   "source": [
    "def one_level_laplacian(img,G):\n",
    "    # generate Gaussian pyramid for Apple\n",
    "    A = img.copy()\n",
    "\n",
    "    # Gaussian blur on Apple\n",
    "    blurred_A = convolution(A, G)\n",
    "\n",
    "    # Downsample blurred A\n",
    "    small_A = down_sample(blurred_A)\n",
    "\n",
    "    # Upsample small, blurred A\n",
    "    # insert zeros between pixels, then apply a gaussian low pass filter\n",
    "    large_A = up_sample(small_A)\n",
    "    upsampled_A = convolution(large_A, G)\n",
    "\n",
    "    # generate Laplacian level for A\n",
    "    laplace_A = A - upsampled_A\n",
    "\n",
    "    # reconstruct A\n",
    "#     reconstruct_A = laplace_A + upsampled_A\n",
    "    \n",
    "    return small_A, upsampled_A, laplace_A"
   ]
  },
  {
   "cell_type": "code",
   "execution_count": 14,
   "id": "a9b997f6",
   "metadata": {},
   "outputs": [],
   "source": [
    "def F_transform(small_A, G):\n",
    "    large_A = up_sample(small_A)\n",
    "    upsampled_A = convolution(large_A, G)\n",
    "    return upsampled_A"
   ]
  },
  {
   "cell_type": "code",
   "execution_count": 15,
   "id": "39a91653",
   "metadata": {},
   "outputs": [],
   "source": [
    "def gamma_decode(img):\n",
    "    new_img = np.zeros((img.shape))\n",
    "    for r in range(img.shape[0]):\n",
    "        for c in range(img.shape[1]):\n",
    "            new_img[r,c,0] = np.power(img[r,c,0], 1/1.2)\n",
    "            new_img[r,c,1] = np.power(img[r,c,1], 1/1.2)\n",
    "            new_img[r,c,2] = np.power(img[r,c,2], 1/1.2)\n",
    "    return new_img"
   ]
  },
  {
   "cell_type": "code",
   "execution_count": 16,
   "id": "0f2f685a",
   "metadata": {},
   "outputs": [
    {
     "ename": "NameError",
     "evalue": "name 'resize' is not defined",
     "output_type": "error",
     "traceback": [
      "\u001b[1;31m---------------------------------------------------------------------------\u001b[0m",
      "\u001b[1;31mNameError\u001b[0m                                 Traceback (most recent call last)",
      "\u001b[1;32m~\\AppData\\Local\\Temp/ipykernel_6900/3782334512.py\u001b[0m in \u001b[0;36m<module>\u001b[1;34m\u001b[0m\n\u001b[1;32m----> 1\u001b[1;33m \u001b[0mresize\u001b[0m\u001b[1;33m(\u001b[0m\u001b[1;33m)\u001b[0m\u001b[1;33m\u001b[0m\u001b[1;33m\u001b[0m\u001b[0m\n\u001b[0m",
      "\u001b[1;31mNameError\u001b[0m: name 'resize' is not defined"
     ]
    }
   ],
   "source": [
    "resize()"
   ]
  },
  {
   "cell_type": "code",
   "execution_count": 17,
   "id": "47edab26",
   "metadata": {},
   "outputs": [
    {
     "data": {
      "text/plain": [
       "1"
      ]
     },
     "execution_count": 17,
     "metadata": {},
     "output_type": "execute_result"
    }
   ],
   "source": [
    "5 %2"
   ]
  },
  {
   "cell_type": "code",
   "execution_count": 18,
   "id": "1ace3d81",
   "metadata": {},
   "outputs": [
    {
     "data": {
      "text/plain": [
       "2"
      ]
     },
     "execution_count": 18,
     "metadata": {},
     "output_type": "execute_result"
    }
   ],
   "source": [
    "2%5"
   ]
  },
  {
   "cell_type": "code",
   "execution_count": 19,
   "id": "e8d02dfc",
   "metadata": {},
   "outputs": [
    {
     "data": {
      "text/plain": [
       "2"
      ]
     },
     "execution_count": 19,
     "metadata": {},
     "output_type": "execute_result"
    }
   ],
   "source": [
    "5//2"
   ]
  },
  {
   "cell_type": "code",
   "execution_count": 20,
   "id": "4b9ef102",
   "metadata": {},
   "outputs": [
    {
     "data": {
      "text/plain": [
       "4"
      ]
     },
     "execution_count": 20,
     "metadata": {},
     "output_type": "execute_result"
    }
   ],
   "source": [
    "8//2"
   ]
  },
  {
   "cell_type": "code",
   "execution_count": 21,
   "id": "f01b757c",
   "metadata": {},
   "outputs": [
    {
     "data": {
      "text/plain": [
       "0"
      ]
     },
     "execution_count": 21,
     "metadata": {},
     "output_type": "execute_result"
    }
   ],
   "source": [
    "8%2"
   ]
  },
  {
   "cell_type": "code",
   "execution_count": null,
   "id": "4961fc6e",
   "metadata": {},
   "outputs": [],
   "source": []
  }
 ],
 "metadata": {
  "kernelspec": {
   "display_name": "Python 3 (ipykernel)",
   "language": "python",
   "name": "python3"
  },
  "language_info": {
   "codemirror_mode": {
    "name": "ipython",
    "version": 3
   },
   "file_extension": ".py",
   "mimetype": "text/x-python",
   "name": "python",
   "nbconvert_exporter": "python",
   "pygments_lexer": "ipython3",
   "version": "3.9.7"
  }
 },
 "nbformat": 4,
 "nbformat_minor": 5
}
